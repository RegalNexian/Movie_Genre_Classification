{
  "nbformat": 4,
  "nbformat_minor": 0,
  "metadata": {
    "colab": {
      "provenance": [],
      "gpuType": "V28"
    },
    "kernelspec": {
      "name": "python3",
      "display_name": "Python 3"
    },
    "language_info": {
      "name": "python"
    },
    "accelerator": "TPU"
  },
  "cells": [
    {
      "cell_type": "code",
      "execution_count": 2,
      "metadata": {
        "id": "Nn0r1AcJG4FZ"
      },
      "outputs": [],
      "source": [
        "import pandas as pd\n",
        "import numpy as np\n",
        "import re\n",
        "import string\n",
        "import pickle\n",
        "import matplotlib.pyplot as plt\n",
        "import seaborn as sns\n",
        "from tqdm import tqdm  # Import tqdm for the progress bar\n",
        "\n",
        "from sklearn.model_selection import train_test_split\n",
        "from sklearn.feature_extraction.text import TfidfVectorizer\n",
        "from sklearn.preprocessing import MultiLabelBinarizer\n",
        "from sklearn.ensemble import RandomForestClassifier\n",
        "from sklearn.metrics import accuracy_score, f1_score, classification_report"
      ]
    },
    {
      "cell_type": "code",
      "source": [
        "print(\"🔵 Loading train and test datasets...\")\n",
        "\n",
        "# Load train data\n",
        "df_train = pd.read_csv(r'/content/drive/MyDrive/Genre Classification Dataset/train_data.txt', sep=' :::', header=None, engine='python')\n",
        "# Load test data\n",
        "df_test = pd.read_csv(r'/content/drive/MyDrive/Genre Classification Dataset/test_data.txt', sep=' :::', header=None, engine='python')\n",
        "\n",
        "# Assign column names\n",
        "df_train.columns = ['ID', 'Title', 'Genre', 'Description']\n",
        "df_test.columns = ['ID', 'Title', 'Description']\n",
        "\n",
        "print(\"✅ Datasets loaded successfully.\")\n",
        "print(\"Train set shape:\", df_train.shape)\n",
        "print(\"Test set shape:\", df_test.shape)\n"
      ],
      "metadata": {
        "colab": {
          "base_uri": "https://localhost:8080/"
        },
        "id": "bUSx4qNpG9zV",
        "outputId": "38443260-3180-4528-a879-f044b062148b"
      },
      "execution_count": 3,
      "outputs": [
        {
          "output_type": "stream",
          "name": "stdout",
          "text": [
            "🔵 Loading train and test datasets...\n",
            "✅ Datasets loaded successfully.\n",
            "Train set shape: (54214, 4)\n",
            "Test set shape: (54200, 3)\n"
          ]
        }
      ]
    },
    {
      "cell_type": "code",
      "source": [
        "# Basic stopwords\n",
        "stop_words = {\n",
        "    'a', 'an', 'and', 'are', 'as', 'at', 'be', 'but', 'by',\n",
        "    'for', 'if', 'in', 'into', 'is', 'it', 'no', 'not',\n",
        "    'of', 'on', 'or', 'such', 'that', 'the', 'their', 'then',\n",
        "    'there', 'these', 'they', 'this', 'to', 'was', 'will', 'with'\n",
        "}\n",
        "\n",
        "# Text Cleaning Function\n",
        "def clean_text(text):\n",
        "    text = str(text).lower()\n",
        "    text = re.sub(r'\\d+', '', text)\n",
        "    text = text.translate(str.maketrans('', '', string.punctuation))\n",
        "    text = text.strip()\n",
        "    tokens = text.split()\n",
        "    tokens = [word for word in tokens if word not in stop_words]\n",
        "    return ' '.join(tokens)\n"
      ],
      "metadata": {
        "id": "pkTc-a01HCGt"
      },
      "execution_count": 4,
      "outputs": []
    },
    {
      "cell_type": "code",
      "source": [
        "print(\"\\n🔵 Preprocessing text...\")\n",
        "df_train['Genre'] = df_train['Genre'].apply(lambda x: x.split(','))\n",
        "df_train['Description'] = df_train['Description'].apply(clean_text)\n",
        "df_test['Description'] = df_test['Description'].apply(clean_text)\n",
        "print(\"✅ Text preprocessing completed.\")\n",
        "\n",
        "# MultiLabel Encoding\n",
        "print(\"\\n🔵 Transforming genres into multi-label format...\")\n",
        "mlb = MultiLabelBinarizer()\n",
        "y = mlb.fit_transform(df_train['Genre'])\n",
        "print(\"✅ Genre transformation completed. Number of genres:\", len(mlb.classes_))\n",
        "\n",
        "# TF-IDF Vectorizer\n",
        "print(\"\\n🔵 Vectorizing text using TF-IDF...\")\n",
        "tfidf = TfidfVectorizer(max_features=5000)\n",
        "X = tfidf.fit_transform(df_train['Description']).toarray()\n",
        "print(\"✅ TF-IDF vectorization done. Shape of feature matrix:\", X.shape)\n",
        "\n",
        "# Train/Validation Split\n",
        "print(\"\\n🔵 Splitting data into training and validation sets...\")\n",
        "X_train, X_val, y_train, y_val = train_test_split(X, y, test_size=0.2, random_state=42)\n",
        "print(\"✅ Data split completed.\")\n",
        "print(\"Training set size:\", X_train.shape)\n",
        "print(\"Validation set size:\", X_val.shape)\n"
      ],
      "metadata": {
        "colab": {
          "base_uri": "https://localhost:8080/"
        },
        "id": "uET7Bt61HF9b",
        "outputId": "ac6acfec-7957-4536-c32e-c852f1215fa2"
      },
      "execution_count": 5,
      "outputs": [
        {
          "output_type": "stream",
          "name": "stdout",
          "text": [
            "\n",
            "🔵 Preprocessing text...\n",
            "✅ Text preprocessing completed.\n",
            "\n",
            "🔵 Transforming genres into multi-label format...\n",
            "✅ Genre transformation completed. Number of genres: 27\n",
            "\n",
            "🔵 Vectorizing text using TF-IDF...\n",
            "✅ TF-IDF vectorization done. Shape of feature matrix: (54214, 5000)\n",
            "\n",
            "🔵 Splitting data into training and validation sets...\n",
            "✅ Data split completed.\n",
            "Training set size: (43371, 5000)\n",
            "Validation set size: (10843, 5000)\n"
          ]
        }
      ]
    },
    {
      "cell_type": "code",
      "source": [
        "# Model: Random Forest\n",
        "print(\"\\n🔵 Training Random Forest model for each label...\")\n",
        "\n",
        "models = []\n",
        "for i in tqdm(range(y_train.shape[1]), desc=\"Training Random Forest Models\", unit=\"model\"):\n",
        "    rf = RandomForestClassifier(n_estimators=100, random_state=42, verbose=1, n_jobs=-1)\n",
        "    rf.fit(X_train, y_train[:, i])\n",
        "    models.append(rf)\n",
        "\n",
        "print(\"✅ All models trained successfully.\")\n",
        "\n",
        "# Validation Prediction\n",
        "print(\"\\n🔵 Making predictions on validation set...\")\n",
        "y_pred = np.zeros_like(y_val)\n",
        "for i, model in enumerate(models):\n",
        "    y_pred[:, i] = model.predict(X_val)"
      ],
      "metadata": {
        "colab": {
          "base_uri": "https://localhost:8080/"
        },
        "id": "v_oias7fHJVW",
        "outputId": "f89adc17-7c37-463c-b211-5c8543fcf08c"
      },
      "execution_count": 6,
      "outputs": [
        {
          "metadata": {
            "tags": null
          },
          "name": "stdout",
          "output_type": "stream",
          "text": [
            "\n",
            "🔵 Training Random Forest model for each label...\n"
          ]
        },
        {
          "output_type": "stream",
          "name": "stderr",
          "text": [
            "Training Random Forest Models:   0%|          | 0/27 [00:00<?, ?model/s][Parallel(n_jobs=-1)]: Using backend ThreadingBackend with 4 concurrent workers.\n",
            "[Parallel(n_jobs=-1)]: Done  42 tasks      | elapsed:   57.1s\n",
            "[Parallel(n_jobs=-1)]: Done 100 out of 100 | elapsed:  2.3min finished\n",
            "Training Random Forest Models:   4%|▎         | 1/27 [02:16<59:20, 136.93s/model][Parallel(n_jobs=-1)]: Using backend ThreadingBackend with 4 concurrent workers.\n",
            "[Parallel(n_jobs=-1)]: Done  42 tasks      | elapsed:   34.7s\n",
            "[Parallel(n_jobs=-1)]: Done 100 out of 100 | elapsed:  1.4min finished\n",
            "Training Random Forest Models:   7%|▋         | 2/27 [03:39<43:48, 105.13s/model][Parallel(n_jobs=-1)]: Using backend ThreadingBackend with 4 concurrent workers.\n",
            "[Parallel(n_jobs=-1)]: Done  42 tasks      | elapsed:   56.3s\n",
            "[Parallel(n_jobs=-1)]: Done 100 out of 100 | elapsed:  2.2min finished\n",
            "Training Random Forest Models:  11%|█         | 3/27 [05:53<47:20, 118.35s/model][Parallel(n_jobs=-1)]: Using backend ThreadingBackend with 4 concurrent workers.\n",
            "[Parallel(n_jobs=-1)]: Done  42 tasks      | elapsed:   41.5s\n",
            "[Parallel(n_jobs=-1)]: Done 100 out of 100 | elapsed:  1.6min finished\n",
            "Training Random Forest Models:  15%|█▍        | 4/27 [07:33<42:29, 110.86s/model][Parallel(n_jobs=-1)]: Using backend ThreadingBackend with 4 concurrent workers.\n",
            "[Parallel(n_jobs=-1)]: Done  42 tasks      | elapsed:   30.1s\n",
            "[Parallel(n_jobs=-1)]: Done 100 out of 100 | elapsed:  1.2min finished\n",
            "Training Random Forest Models:  19%|█▊        | 5/27 [08:44<35:27, 96.69s/model] [Parallel(n_jobs=-1)]: Using backend ThreadingBackend with 4 concurrent workers.\n",
            "[Parallel(n_jobs=-1)]: Done  42 tasks      | elapsed:   37.4s\n",
            "[Parallel(n_jobs=-1)]: Done 100 out of 100 | elapsed:  1.5min finished\n",
            "Training Random Forest Models:  22%|██▏       | 6/27 [10:16<33:12, 94.89s/model][Parallel(n_jobs=-1)]: Using backend ThreadingBackend with 4 concurrent workers.\n",
            "[Parallel(n_jobs=-1)]: Done  42 tasks      | elapsed:   37.0s\n",
            "[Parallel(n_jobs=-1)]: Done 100 out of 100 | elapsed:  1.4min finished\n",
            "Training Random Forest Models:  26%|██▌       | 7/27 [11:42<30:38, 91.94s/model][Parallel(n_jobs=-1)]: Using backend ThreadingBackend with 4 concurrent workers.\n",
            "[Parallel(n_jobs=-1)]: Done  42 tasks      | elapsed:   18.6s\n",
            "[Parallel(n_jobs=-1)]: Done 100 out of 100 | elapsed:   42.1s finished\n",
            "Training Random Forest Models:  30%|██▉       | 8/27 [12:24<24:08, 76.26s/model][Parallel(n_jobs=-1)]: Using backend ThreadingBackend with 4 concurrent workers.\n",
            "[Parallel(n_jobs=-1)]: Done  42 tasks      | elapsed:   24.2s\n",
            "[Parallel(n_jobs=-1)]: Done 100 out of 100 | elapsed:   57.4s finished\n",
            "Training Random Forest Models:  33%|███▎      | 9/27 [13:22<21:09, 70.55s/model][Parallel(n_jobs=-1)]: Using backend ThreadingBackend with 4 concurrent workers.\n",
            "[Parallel(n_jobs=-1)]: Done  42 tasks      | elapsed:   55.3s\n",
            "[Parallel(n_jobs=-1)]: Done 100 out of 100 | elapsed:  2.2min finished\n",
            "Training Random Forest Models:  37%|███▋      | 10/27 [15:36<25:29, 89.98s/model][Parallel(n_jobs=-1)]: Using backend ThreadingBackend with 4 concurrent workers.\n",
            "[Parallel(n_jobs=-1)]: Done  42 tasks      | elapsed:   34.2s\n",
            "[Parallel(n_jobs=-1)]: Done 100 out of 100 | elapsed:  1.3min finished\n",
            "Training Random Forest Models:  41%|████      | 11/27 [16:55<23:05, 86.62s/model][Parallel(n_jobs=-1)]: Using backend ThreadingBackend with 4 concurrent workers.\n",
            "[Parallel(n_jobs=-1)]: Done  42 tasks      | elapsed:   12.2s\n",
            "[Parallel(n_jobs=-1)]: Done 100 out of 100 | elapsed:   29.7s finished\n",
            "Training Random Forest Models:  44%|████▍     | 12/27 [17:25<17:21, 69.46s/model][Parallel(n_jobs=-1)]: Using backend ThreadingBackend with 4 concurrent workers.\n",
            "[Parallel(n_jobs=-1)]: Done  42 tasks      | elapsed:   27.2s\n",
            "[Parallel(n_jobs=-1)]: Done 100 out of 100 | elapsed:  1.1min finished\n",
            "Training Random Forest Models:  48%|████▊     | 13/27 [18:32<16:00, 68.60s/model][Parallel(n_jobs=-1)]: Using backend ThreadingBackend with 4 concurrent workers.\n",
            "[Parallel(n_jobs=-1)]: Done  42 tasks      | elapsed:   49.6s\n",
            "[Parallel(n_jobs=-1)]: Done 100 out of 100 | elapsed:  2.0min finished\n",
            "Training Random Forest Models:  52%|█████▏    | 14/27 [20:31<18:11, 83.96s/model][Parallel(n_jobs=-1)]: Using backend ThreadingBackend with 4 concurrent workers.\n",
            "[Parallel(n_jobs=-1)]: Done  42 tasks      | elapsed:   29.0s\n",
            "[Parallel(n_jobs=-1)]: Done 100 out of 100 | elapsed:  1.1min finished\n",
            "Training Random Forest Models:  56%|█████▌    | 15/27 [21:38<15:47, 78.92s/model][Parallel(n_jobs=-1)]: Using backend ThreadingBackend with 4 concurrent workers.\n",
            "[Parallel(n_jobs=-1)]: Done  42 tasks      | elapsed:   28.2s\n",
            "[Parallel(n_jobs=-1)]: Done 100 out of 100 | elapsed:  1.1min finished\n",
            "Training Random Forest Models:  59%|█████▉    | 16/27 [22:43<13:39, 74.53s/model][Parallel(n_jobs=-1)]: Using backend ThreadingBackend with 4 concurrent workers.\n",
            "[Parallel(n_jobs=-1)]: Done  42 tasks      | elapsed:   30.7s\n",
            "[Parallel(n_jobs=-1)]: Done 100 out of 100 | elapsed:  1.2min finished\n",
            "Training Random Forest Models:  63%|██████▎   | 17/27 [23:53<12:13, 73.37s/model][Parallel(n_jobs=-1)]: Using backend ThreadingBackend with 4 concurrent workers.\n",
            "[Parallel(n_jobs=-1)]: Done  42 tasks      | elapsed:   20.8s\n",
            "[Parallel(n_jobs=-1)]: Done 100 out of 100 | elapsed:   50.2s finished\n",
            "Training Random Forest Models:  67%|██████▋   | 18/27 [24:44<09:59, 66.59s/model][Parallel(n_jobs=-1)]: Using backend ThreadingBackend with 4 concurrent workers.\n",
            "[Parallel(n_jobs=-1)]: Done  42 tasks      | elapsed:   40.5s\n",
            "[Parallel(n_jobs=-1)]: Done 100 out of 100 | elapsed:  1.6min finished\n",
            "Training Random Forest Models:  70%|███████   | 19/27 [26:20<10:03, 75.43s/model][Parallel(n_jobs=-1)]: Using backend ThreadingBackend with 4 concurrent workers.\n",
            "[Parallel(n_jobs=-1)]: Done  42 tasks      | elapsed:   27.6s\n",
            "[Parallel(n_jobs=-1)]: Done 100 out of 100 | elapsed:  1.1min finished\n",
            "Training Random Forest Models:  74%|███████▍  | 20/27 [27:25<08:24, 72.14s/model][Parallel(n_jobs=-1)]: Using backend ThreadingBackend with 4 concurrent workers.\n",
            "[Parallel(n_jobs=-1)]: Done  42 tasks      | elapsed:   39.9s\n",
            "[Parallel(n_jobs=-1)]: Done 100 out of 100 | elapsed:  1.5min finished\n",
            "Training Random Forest Models:  78%|███████▊  | 21/27 [28:57<07:49, 78.23s/model][Parallel(n_jobs=-1)]: Using backend ThreadingBackend with 4 concurrent workers.\n",
            "[Parallel(n_jobs=-1)]: Done  42 tasks      | elapsed:  1.4min\n",
            "[Parallel(n_jobs=-1)]: Done 100 out of 100 | elapsed:  3.5min finished\n",
            "Training Random Forest Models:  81%|████████▏ | 22/27 [32:25<09:46, 117.26s/model][Parallel(n_jobs=-1)]: Using backend ThreadingBackend with 4 concurrent workers.\n",
            "[Parallel(n_jobs=-1)]: Done  42 tasks      | elapsed:   28.6s\n",
            "[Parallel(n_jobs=-1)]: Done 100 out of 100 | elapsed:  1.1min finished\n",
            "Training Random Forest Models:  85%|████████▌ | 23/27 [33:32<06:48, 102.12s/model][Parallel(n_jobs=-1)]: Using backend ThreadingBackend with 4 concurrent workers.\n",
            "[Parallel(n_jobs=-1)]: Done  42 tasks      | elapsed:   27.2s\n",
            "[Parallel(n_jobs=-1)]: Done 100 out of 100 | elapsed:  1.1min finished\n",
            "Training Random Forest Models:  89%|████████▉ | 24/27 [34:36<04:32, 90.72s/model] [Parallel(n_jobs=-1)]: Using backend ThreadingBackend with 4 concurrent workers.\n",
            "[Parallel(n_jobs=-1)]: Done  42 tasks      | elapsed:   49.8s\n",
            "[Parallel(n_jobs=-1)]: Done 100 out of 100 | elapsed:  2.0min finished\n",
            "Training Random Forest Models:  93%|█████████▎| 25/27 [36:35<03:18, 99.10s/model][Parallel(n_jobs=-1)]: Using backend ThreadingBackend with 4 concurrent workers.\n",
            "[Parallel(n_jobs=-1)]: Done  42 tasks      | elapsed:   14.4s\n",
            "[Parallel(n_jobs=-1)]: Done 100 out of 100 | elapsed:   33.3s finished\n",
            "Training Random Forest Models:  96%|█████████▋| 26/27 [37:09<01:19, 79.54s/model][Parallel(n_jobs=-1)]: Using backend ThreadingBackend with 4 concurrent workers.\n",
            "[Parallel(n_jobs=-1)]: Done  42 tasks      | elapsed:   30.0s\n",
            "[Parallel(n_jobs=-1)]: Done 100 out of 100 | elapsed:  1.2min finished\n",
            "Training Random Forest Models: 100%|██████████| 27/27 [38:18<00:00, 85.14s/model]\n",
            "[Parallel(n_jobs=4)]: Using backend ThreadingBackend with 4 concurrent workers.\n"
          ]
        },
        {
          "output_type": "stream",
          "name": "stdout",
          "text": [
            "✅ All models trained successfully.\n",
            "\n",
            "🔵 Making predictions on validation set...\n"
          ]
        },
        {
          "output_type": "stream",
          "name": "stderr",
          "text": [
            "[Parallel(n_jobs=4)]: Done  42 tasks      | elapsed:    0.2s\n",
            "[Parallel(n_jobs=4)]: Done 100 out of 100 | elapsed:    0.4s finished\n",
            "[Parallel(n_jobs=4)]: Using backend ThreadingBackend with 4 concurrent workers.\n",
            "[Parallel(n_jobs=4)]: Done  42 tasks      | elapsed:    0.1s\n",
            "[Parallel(n_jobs=4)]: Done 100 out of 100 | elapsed:    0.3s finished\n",
            "[Parallel(n_jobs=4)]: Using backend ThreadingBackend with 4 concurrent workers.\n",
            "[Parallel(n_jobs=4)]: Done  42 tasks      | elapsed:    0.2s\n",
            "[Parallel(n_jobs=4)]: Done 100 out of 100 | elapsed:    0.4s finished\n",
            "[Parallel(n_jobs=4)]: Using backend ThreadingBackend with 4 concurrent workers.\n",
            "[Parallel(n_jobs=4)]: Done  42 tasks      | elapsed:    0.1s\n",
            "[Parallel(n_jobs=4)]: Done 100 out of 100 | elapsed:    0.3s finished\n",
            "[Parallel(n_jobs=4)]: Using backend ThreadingBackend with 4 concurrent workers.\n",
            "[Parallel(n_jobs=4)]: Done  42 tasks      | elapsed:    0.1s\n",
            "[Parallel(n_jobs=4)]: Done 100 out of 100 | elapsed:    0.3s finished\n",
            "[Parallel(n_jobs=4)]: Using backend ThreadingBackend with 4 concurrent workers.\n",
            "[Parallel(n_jobs=4)]: Done  42 tasks      | elapsed:    0.2s\n",
            "[Parallel(n_jobs=4)]: Done 100 out of 100 | elapsed:    0.4s finished\n",
            "[Parallel(n_jobs=4)]: Using backend ThreadingBackend with 4 concurrent workers.\n",
            "[Parallel(n_jobs=4)]: Done  42 tasks      | elapsed:    0.1s\n",
            "[Parallel(n_jobs=4)]: Done 100 out of 100 | elapsed:    0.3s finished\n",
            "[Parallel(n_jobs=4)]: Using backend ThreadingBackend with 4 concurrent workers.\n",
            "[Parallel(n_jobs=4)]: Done  42 tasks      | elapsed:    0.1s\n",
            "[Parallel(n_jobs=4)]: Done 100 out of 100 | elapsed:    0.3s finished\n",
            "[Parallel(n_jobs=4)]: Using backend ThreadingBackend with 4 concurrent workers.\n",
            "[Parallel(n_jobs=4)]: Done  42 tasks      | elapsed:    0.1s\n",
            "[Parallel(n_jobs=4)]: Done 100 out of 100 | elapsed:    0.3s finished\n",
            "[Parallel(n_jobs=4)]: Using backend ThreadingBackend with 4 concurrent workers.\n",
            "[Parallel(n_jobs=4)]: Done  42 tasks      | elapsed:    0.2s\n",
            "[Parallel(n_jobs=4)]: Done 100 out of 100 | elapsed:    0.4s finished\n",
            "[Parallel(n_jobs=4)]: Using backend ThreadingBackend with 4 concurrent workers.\n",
            "[Parallel(n_jobs=4)]: Done  42 tasks      | elapsed:    0.1s\n",
            "[Parallel(n_jobs=4)]: Done 100 out of 100 | elapsed:    0.3s finished\n",
            "[Parallel(n_jobs=4)]: Using backend ThreadingBackend with 4 concurrent workers.\n",
            "[Parallel(n_jobs=4)]: Done  42 tasks      | elapsed:    0.1s\n",
            "[Parallel(n_jobs=4)]: Done 100 out of 100 | elapsed:    0.1s finished\n",
            "[Parallel(n_jobs=4)]: Using backend ThreadingBackend with 4 concurrent workers.\n",
            "[Parallel(n_jobs=4)]: Done  42 tasks      | elapsed:    0.1s\n",
            "[Parallel(n_jobs=4)]: Done 100 out of 100 | elapsed:    0.2s finished\n",
            "[Parallel(n_jobs=4)]: Using backend ThreadingBackend with 4 concurrent workers.\n",
            "[Parallel(n_jobs=4)]: Done  42 tasks      | elapsed:    0.2s\n",
            "[Parallel(n_jobs=4)]: Done 100 out of 100 | elapsed:    0.4s finished\n",
            "[Parallel(n_jobs=4)]: Using backend ThreadingBackend with 4 concurrent workers.\n",
            "[Parallel(n_jobs=4)]: Done  42 tasks      | elapsed:    0.1s\n",
            "[Parallel(n_jobs=4)]: Done 100 out of 100 | elapsed:    0.2s finished\n",
            "[Parallel(n_jobs=4)]: Using backend ThreadingBackend with 4 concurrent workers.\n",
            "[Parallel(n_jobs=4)]: Done  42 tasks      | elapsed:    0.1s\n",
            "[Parallel(n_jobs=4)]: Done 100 out of 100 | elapsed:    0.2s finished\n",
            "[Parallel(n_jobs=4)]: Using backend ThreadingBackend with 4 concurrent workers.\n",
            "[Parallel(n_jobs=4)]: Done  42 tasks      | elapsed:    0.1s\n",
            "[Parallel(n_jobs=4)]: Done 100 out of 100 | elapsed:    0.2s finished\n",
            "[Parallel(n_jobs=4)]: Using backend ThreadingBackend with 4 concurrent workers.\n",
            "[Parallel(n_jobs=4)]: Done  42 tasks      | elapsed:    0.1s\n",
            "[Parallel(n_jobs=4)]: Done 100 out of 100 | elapsed:    0.2s finished\n",
            "[Parallel(n_jobs=4)]: Using backend ThreadingBackend with 4 concurrent workers.\n",
            "[Parallel(n_jobs=4)]: Done  42 tasks      | elapsed:    0.1s\n",
            "[Parallel(n_jobs=4)]: Done 100 out of 100 | elapsed:    0.3s finished\n",
            "[Parallel(n_jobs=4)]: Using backend ThreadingBackend with 4 concurrent workers.\n",
            "[Parallel(n_jobs=4)]: Done  42 tasks      | elapsed:    0.1s\n",
            "[Parallel(n_jobs=4)]: Done 100 out of 100 | elapsed:    0.2s finished\n",
            "[Parallel(n_jobs=4)]: Using backend ThreadingBackend with 4 concurrent workers.\n",
            "[Parallel(n_jobs=4)]: Done  42 tasks      | elapsed:    0.1s\n",
            "[Parallel(n_jobs=4)]: Done 100 out of 100 | elapsed:    0.3s finished\n",
            "[Parallel(n_jobs=4)]: Using backend ThreadingBackend with 4 concurrent workers.\n",
            "[Parallel(n_jobs=4)]: Done  42 tasks      | elapsed:    0.3s\n",
            "[Parallel(n_jobs=4)]: Done 100 out of 100 | elapsed:    0.6s finished\n",
            "[Parallel(n_jobs=4)]: Using backend ThreadingBackend with 4 concurrent workers.\n",
            "[Parallel(n_jobs=4)]: Done  42 tasks      | elapsed:    0.1s\n",
            "[Parallel(n_jobs=4)]: Done 100 out of 100 | elapsed:    0.2s finished\n",
            "[Parallel(n_jobs=4)]: Using backend ThreadingBackend with 4 concurrent workers.\n",
            "[Parallel(n_jobs=4)]: Done  42 tasks      | elapsed:    0.1s\n",
            "[Parallel(n_jobs=4)]: Done 100 out of 100 | elapsed:    0.2s finished\n",
            "[Parallel(n_jobs=4)]: Using backend ThreadingBackend with 4 concurrent workers.\n",
            "[Parallel(n_jobs=4)]: Done  42 tasks      | elapsed:    0.2s\n",
            "[Parallel(n_jobs=4)]: Done 100 out of 100 | elapsed:    0.4s finished\n",
            "[Parallel(n_jobs=4)]: Using backend ThreadingBackend with 4 concurrent workers.\n",
            "[Parallel(n_jobs=4)]: Done  42 tasks      | elapsed:    0.1s\n",
            "[Parallel(n_jobs=4)]: Done 100 out of 100 | elapsed:    0.2s finished\n",
            "[Parallel(n_jobs=4)]: Using backend ThreadingBackend with 4 concurrent workers.\n",
            "[Parallel(n_jobs=4)]: Done  42 tasks      | elapsed:    0.1s\n",
            "[Parallel(n_jobs=4)]: Done 100 out of 100 | elapsed:    0.2s finished\n"
          ]
        }
      ]
    },
    {
      "cell_type": "code",
      "source": [
        "# Evaluation\n",
        "print(\"\\n🔵 Evaluating model performance...\")\n",
        "print(\"Validation Accuracy Score:\", accuracy_score(y_val, y_pred))\n",
        "print(\"F1 Score (micro):\", f1_score(y_val, y_pred, average='micro'))\n",
        "print(\"F1 Score (macro):\", f1_score(y_val, y_pred, average='macro'))\n",
        "print(\"\\nClassification Report:\\n\")\n",
        "print(classification_report(y_val, y_pred, target_names=mlb.classes_))\n",
        "\n",
        "# Save Models, Vectorizer, Label Encoder\n",
        "print(\"\\n🔵 Saving models, vectorizer, and label encoder with pickle...\")\n",
        "\n",
        "with open('random_forest_models.pkl', 'wb') as f:\n",
        "    pickle.dump(models, f)\n",
        "\n",
        "with open('tfidf_vectorizer.pkl', 'wb') as f:\n",
        "    pickle.dump(tfidf, f)\n",
        "\n",
        "with open('label_binarizer.pkl', 'wb') as f:\n",
        "    pickle.dump(mlb, f)\n",
        "\n",
        "print(\"✅ Models, vectorizer, and label encoder saved successfully.\")\n",
        "\n",
        "# Optional: Plot Genre Distribution\n",
        "print(\"\\n🔵 Plotting genre distribution...\")\n",
        "all_genres = [genre for sublist in df_train['Genre'] for genre in sublist]\n",
        "genre_freq = pd.Series(all_genres).value_counts()\n",
        "\n",
        "plt.figure(figsize=(12,6))\n",
        "sns.barplot(x=genre_freq.index, y=genre_freq.values)\n",
        "plt.title('Genre Distribution')\n",
        "plt.xticks(rotation=90)\n",
        "plt.tight_layout()\n",
        "plt.show()\n",
        "print(\"✅ Genre distribution plot displayed.\")\n",
        "\n",
        "print(\"\\n🎯 Script completed successfully!\")\n"
      ],
      "metadata": {
        "colab": {
          "base_uri": "https://localhost:8080/",
          "height": 1000
        },
        "id": "QDUJNAvzHKMA",
        "outputId": "666058d6-029c-473c-c560-a8f656ae7ed9"
      },
      "execution_count": 7,
      "outputs": [
        {
          "output_type": "stream",
          "name": "stdout",
          "text": [
            "\n",
            "🔵 Evaluating model performance...\n",
            "Validation Accuracy Score: 0.19985243936180025\n",
            "F1 Score (micro): 0.3198347717046544\n",
            "F1 Score (macro): 0.08279918732846933\n",
            "\n",
            "Classification Report:\n",
            "\n",
            "              precision    recall  f1-score   support\n",
            "\n",
            "      action       0.00      0.00      0.00       263\n",
            "       adult       1.00      0.02      0.04       112\n",
            "   adventure       0.44      0.03      0.05       139\n",
            "   animation       0.00      0.00      0.00       104\n",
            "   biography       0.00      0.00      0.00        61\n",
            "      comedy       0.74      0.13      0.22      1443\n",
            "       crime       1.00      0.01      0.02       107\n",
            " documentary       0.83      0.53      0.64      2659\n",
            "       drama       0.72      0.17      0.27      2697\n",
            "      family       1.00      0.03      0.05       150\n",
            "     fantasy       0.00      0.00      0.00        74\n",
            "   game-show       1.00      0.05      0.10        40\n",
            "     history       0.00      0.00      0.00        45\n",
            "      horror       0.80      0.03      0.05       431\n",
            "       music       1.00      0.04      0.08       144\n",
            "     musical       0.00      0.00      0.00        50\n",
            "     mystery       0.00      0.00      0.00        56\n",
            "        news       0.00      0.00      0.00        34\n",
            "  reality-tv       0.00      0.00      0.00       192\n",
            "     romance       0.00      0.00      0.00       151\n",
            "      sci-fi       0.00      0.00      0.00       143\n",
            "       short       0.89      0.03      0.06      1045\n",
            "       sport       0.75      0.03      0.06        93\n",
            "   talk-show       1.00      0.02      0.05        81\n",
            "    thriller       0.00      0.00      0.00       309\n",
            "         war       1.00      0.05      0.10        20\n",
            "     western       1.00      0.28      0.44       200\n",
            "\n",
            "   micro avg       0.80      0.20      0.32     10843\n",
            "   macro avg       0.49      0.05      0.08     10843\n",
            "weighted avg       0.69      0.20      0.28     10843\n",
            " samples avg       0.20      0.20      0.20     10843\n",
            "\n",
            "\n",
            "🔵 Saving models, vectorizer, and label encoder with pickle...\n"
          ]
        },
        {
          "output_type": "stream",
          "name": "stderr",
          "text": [
            "/usr/local/lib/python3.11/dist-packages/sklearn/metrics/_classification.py:1565: UndefinedMetricWarning: Precision is ill-defined and being set to 0.0 in labels with no predicted samples. Use `zero_division` parameter to control this behavior.\n",
            "  _warn_prf(average, modifier, f\"{metric.capitalize()} is\", len(result))\n",
            "/usr/local/lib/python3.11/dist-packages/sklearn/metrics/_classification.py:1565: UndefinedMetricWarning: Precision is ill-defined and being set to 0.0 in samples with no predicted labels. Use `zero_division` parameter to control this behavior.\n",
            "  _warn_prf(average, modifier, f\"{metric.capitalize()} is\", len(result))\n"
          ]
        },
        {
          "output_type": "stream",
          "name": "stdout",
          "text": [
            "✅ Models, vectorizer, and label encoder saved successfully.\n",
            "\n",
            "🔵 Plotting genre distribution...\n"
          ]
        },
        {
          "output_type": "display_data",
          "data": {
            "text/plain": [
              "<Figure size 1200x600 with 1 Axes>"
            ],
            "image/png": "[encoded data removed]"
          },
          "metadata": {}
        },
        {
          "output_type": "stream",
          "name": "stdout",
          "text": [
            "✅ Genre distribution plot displayed.\n",
            "\n",
            "🎯 Script completed successfully!\n"
          ]
        }
      ]
    }
  ]
}